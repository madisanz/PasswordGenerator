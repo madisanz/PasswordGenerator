{
  "nbformat": 4,
  "nbformat_minor": 0,
  "metadata": {
    "colab": {
      "name": "PasswordGenerator.ipynb",
      "provenance": []
    },
    "kernelspec": {
      "name": "python3",
      "display_name": "Python 3"
    }
  },
  "cells": [
    {
      "cell_type": "code",
      "metadata": {
        "colab": {
          "base_uri": "https://localhost:8080/"
        },
        "id": "S3MxwndCgU-a",
        "outputId": "66830f30-31c3-46d6-92d4-2fde7fca5e96"
      },
      "source": [
        "import random\n",
        "\n",
        "lower = \"abcdefghijklmnñopqrstuvwxyz\"\n",
        "\n",
        "upper = \"ABCDEFGHIJKLMNÑOPQRSTUVWXYZ\"\n",
        "\n",
        "numbers = \"0123456789\"\n",
        "\n",
        "symbols = \"[]{}()*;/,._-\"\n",
        "\n",
        "all = lower + upper + numbers + symbols\n",
        "\n",
        "\n",
        "length = 10\n",
        "\n",
        "password = \"\".join(random.sample(all, length))\n",
        "print(password)"
      ],
      "execution_count": 4,
      "outputs": [
        {
          "output_type": "stream",
          "text": [
            "x.As;Ww]67\n"
          ],
          "name": "stdout"
        }
      ]
    }
  ]
}